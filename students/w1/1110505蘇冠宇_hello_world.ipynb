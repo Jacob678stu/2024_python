{
 "cells": [
  {
   "cell_type": "code",
   "execution_count": null,
   "metadata": {},
   "outputs": [],
   "source": [
    "import sys;\n",
    "\n",
    "def hello(name, id):\n",
    "    print(name,id, \"hello world\")\n",
    "\n",
    "def showpythonversion():\n",
    "    print('python version is :', sys.version)\n",
    "\n",
    "# call hello function\n",
    "\n",
    "hello(\"蘇冠宇\",1110505)"
   ]
  }
 ],
 "metadata": {
  "language_info": {
   "name": "python"
  }
 },
 "nbformat": 4,
 "nbformat_minor": 2
}
