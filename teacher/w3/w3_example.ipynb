{
 "cells": [
  {
   "cell_type": "code",
   "execution_count": 1,
   "id": "0383f858-317a-47c6-872d-0d271b4f5c3f",
   "metadata": {},
   "outputs": [
    {
     "name": "stdout",
     "output_type": "stream",
     "text": [
      "Creating instance\n",
      "Init inside class \n",
      "\n",
      "Jarron initial balance: 1000\n",
      "Balance after deposit: 1500\n",
      "Withdrawn: 800\n",
      "Balance after withdrawal: 700\n",
      "\n",
      "Account of Jarron with starting balance: 700\n",
      "\n",
      "Removing instance\n"
     ]
    }
   ],
   "source": [
    "# show class & object \n",
    "\n",
    "class Account:\n",
    "    def __new__(cls, *args, **kwargs):\n",
    "        print('Creating instance')\n",
    "        return super().__new__(cls)\n",
    "    \n",
    "    def __init__(self, name,balance):\n",
    "        print('Init inside class ')\n",
    "        self.name = name\n",
    "        self.balance = balance\n",
    "\n",
    "    def __str__(self):\n",
    "        return f'\\nAccount of {self.name} with starting balance: {self.balance}'\n",
    "\n",
    "    def __del__(self):\n",
    "        print(\"\\nRemoving instance\") \n",
    "\n",
    "    \n",
    "    def deposit(self, amount):\n",
    "        self.balance += amount\n",
    "\n",
    "    def withdraw(self, amount):\n",
    "        if self.balance >= amount:\n",
    "            self.balance -= amount\n",
    "            return amount\n",
    "        else:\n",
    "            print('Insufficient funds')\n",
    "            return 0\n",
    "\n",
    "# Usage\n",
    "account = Account(\"Jarron\",1000)\n",
    "print(f'\\n{account.name} initial balance:', account.balance)\n",
    "\n",
    "account.deposit(500)\n",
    "print('Balance after deposit:', account.balance)\n",
    "\n",
    "withdraw_amount = account.withdraw(800)\n",
    "if withdraw_amount > 0:\n",
    "    print('Withdrawn:', withdraw_amount)\n",
    "print('Balance after withdrawal:', account.balance)\n",
    "\n",
    "print(account)\n",
    "del account\n"
   ]
  },
  {
   "cell_type": "code",
   "execution_count": 2,
   "id": "56b232cb-70e0-4b66-8284-663fd05cb80c",
   "metadata": {},
   "outputs": [
    {
     "name": "stdout",
     "output_type": "stream",
     "text": [
      "['__class__', '__del__', '__delattr__', '__dict__', '__dir__', '__doc__', '__eq__', '__format__', '__ge__', '__getattribute__', '__getstate__', '__gt__', '__hash__', '__init__', '__init_subclass__', '__le__', '__lt__', '__module__', '__ne__', '__new__', '__reduce__', '__reduce_ex__', '__repr__', '__setattr__', '__sizeof__', '__str__', '__subclasshook__', '__weakref__', 'deposit', 'withdraw']\n"
     ]
    }
   ],
   "source": [
    "# show dir \n",
    "\n",
    "print (dir(Account))"
   ]
  },
  {
   "cell_type": "code",
   "execution_count": 3,
   "id": "5ee497d6-f897-43a2-9001-0025f36d675e",
   "metadata": {},
   "outputs": [
    {
     "name": "stdout",
     "output_type": "stream",
     "text": [
      "Creating instance\n",
      "Init inside class \n",
      "Rick initial balance: 1000\n",
      "Balance after deposit: 2000 saving date: 2024-09-27 14:37:13\n",
      "Balance after withdrawal: 1000\n",
      "Interest after 1 year: 126.82503013196977\n"
     ]
    }
   ],
   "source": [
    "import datetime\n",
    "class SavingsAccount(Account):\n",
    "    def __init__(self, name, balance):\n",
    "        super().__init__(name, balance)\n",
    "        self.interest_rate = 0.01\n",
    "\n",
    "    def compute_interest(self, n_periods=1):\n",
    "        return self.balance * ((1 + self.interest_rate) ** n_periods - 1)\n",
    "    \n",
    "           \n",
    "    def deposit(self, amount,date=datetime.datetime.now()):\n",
    "        self.balance += amount\n",
    "        self.update_date= date\n",
    "    \n",
    "    \n",
    "savingsaccount= SavingsAccount(\"Rick\",1000)\n",
    "print(f'{savingsaccount.name} initial balance:', savingsaccount.balance)  \n",
    "\n",
    "savingsaccount.deposit(1000)\n",
    "print('Balance after deposit:', savingsaccount.balance, 'saving date:', savingsaccount.update_date.strftime(\"%Y-%m-%d %H:%M:%S\"))\n",
    "savingsaccount.withdraw(1000)\n",
    "print('Balance after withdrawal:', savingsaccount.balance)\n",
    "\n",
    "print('Interest after 1 year:', savingsaccount.compute_interest(12))"
   ]
  },
  {
   "cell_type": "code",
   "execution_count": 6,
   "id": "f9d027ef-ddf1-4f6f-ad97-1e22b399e6c2",
   "metadata": {},
   "outputs": [
    {
     "name": "stdout",
     "output_type": "stream",
     "text": [
      "\n",
      "(1,2)\n",
      "\n",
      "(2,3)\n",
      "\n",
      "(3,2)\n"
     ]
    }
   ],
   "source": [
    "class Point:\n",
    "    def __init__(self, x=0, y=0):\n",
    "        self.x = x\n",
    "        self.y = y\n",
    "\n",
    "    def __str__(self):\n",
    "        return \"\\n({0},{1})\".format(self.x, self.y)\n",
    "\n",
    "    def __add__(self, other):\n",
    "        x = self.x + other.x\n",
    "        y = self.y #+ other.y\n",
    "        return Point(x, y)\n",
    "\n",
    "\n",
    "p1 = Point(1, 2)\n",
    "print (p1)\n",
    "p2 = Point(2, 3)\n",
    "print (p2)\n",
    "print(p1+p2)"
   ]
  },
  {
   "cell_type": "code",
   "execution_count": 7,
   "id": "28987b28-4548-4699-9c3e-73471c243d1a",
   "metadata": {},
   "outputs": [
    {
     "name": "stdout",
     "output_type": "stream",
     "text": [
      "Creating instance\n",
      "Init inside class \n",
      "Creating instance\n",
      "Init inside class \n",
      "x is z= True\n",
      "x is y= False\n"
     ]
    }
   ],
   "source": [
    "# show reference (參照)\n",
    "\n",
    "x = account = Account(\"Jarron\",1000)\n",
    "y = account = Account(\"Jarron\",1000)\n",
    "z = x\n",
    "\n",
    "print(\"x is z=\",x is z)\n",
    "\n",
    "# returns True because z is the same object as x\n",
    "\n",
    "print(\"x is y=\",x is y)\n",
    "\n",
    "# returns False because x is not the same object as y, even if they have the same content"
   ]
  },
  {
   "cell_type": "code",
   "execution_count": 10,
   "id": "04ceca5f-e828-4d2f-afbf-8f305a94f7d4",
   "metadata": {},
   "outputs": [
    {
     "ename": "TypeError",
     "evalue": "Can't instantiate abstract class Rectangle with abstract method area",
     "output_type": "error",
     "traceback": [
      "\u001b[1;31m---------------------------------------------------------------------------\u001b[0m",
      "\u001b[1;31mTypeError\u001b[0m                                 Traceback (most recent call last)",
      "Cell \u001b[1;32mIn[10], line 40\u001b[0m\n\u001b[0;32m     37\u001b[0m     \u001b[38;5;28;01mdef\u001b[39;00m \u001b[38;5;21mperimeter\u001b[39m(\u001b[38;5;28mself\u001b[39m):\n\u001b[0;32m     38\u001b[0m         \u001b[38;5;28;01mreturn\u001b[39;00m (\u001b[38;5;241m2\u001b[39m \u001b[38;5;241m*\u001b[39m \u001b[38;5;241m3.14\u001b[39m \u001b[38;5;241m*\u001b[39m \u001b[38;5;28mself\u001b[39m\u001b[38;5;241m.\u001b[39mradius)\n\u001b[1;32m---> 40\u001b[0m r \u001b[38;5;241m=\u001b[39m \u001b[43mRectangle\u001b[49m\u001b[43m(\u001b[49m\u001b[38;5;241;43m10\u001b[39;49m\u001b[43m,\u001b[49m\u001b[43m \u001b[49m\u001b[38;5;241;43m20\u001b[39;49m\u001b[43m)\u001b[49m\n\u001b[0;32m     41\u001b[0m \u001b[38;5;66;03m#print(\"Area of rectangle:\", r.calculate_area())\u001b[39;00m\n\u001b[0;32m     42\u001b[0m \u001b[38;5;28mprint\u001b[39m(\u001b[38;5;124m\"\u001b[39m\u001b[38;5;124mPerimeter of rectangle:\u001b[39m\u001b[38;5;124m\"\u001b[39m, r\u001b[38;5;241m.\u001b[39mperimeter())\n",
      "\u001b[1;31mTypeError\u001b[0m: Can't instantiate abstract class Rectangle with abstract method area"
     ]
    }
   ],
   "source": [
    "from abc import ABC, abstractmethod\n",
    "\n",
    "class Shape(ABC):\n",
    "    @abstractmethod\n",
    "    def area(self):\n",
    "        pass\n",
    "\n",
    "    @abstractmethod\n",
    "    def perimeter(self):\n",
    "        pass\n",
    "    def calculate_area(shape):\n",
    "        if isinstance(shape, Shape):\n",
    "            return shape.area()\n",
    "        else:\n",
    "            raise TypeError(\"Expected an object of type Shape.\")\n",
    "#r = Shape()\n",
    "#print(\"Area of rectangle:\", r.area())\n",
    "\n",
    "class Rectangle(Shape):\n",
    "    def __init__(self, width, height):\n",
    "        self.width = width\n",
    "        self.height = height\n",
    "\n",
    "#    def area(self):\n",
    "#        return (self.width * self.height)\n",
    "\n",
    "    def perimeter(self):\n",
    "        return (2 * (self.width + self.height)) \n",
    "\n",
    "class Circle(Shape):\n",
    "    def __init__(self, radius):\n",
    "        self.radius = radius\n",
    "\n",
    "    def area(self):\n",
    "        return (3.14 * (self.radius ** 2))\n",
    "\n",
    "    def perimeter(self):\n",
    "        return (2 * 3.14 * self.radius)\n",
    "\n",
    "r = Rectangle(10, 20)\n",
    "#print(\"Area of rectangle:\", r.calculate_area())\n",
    "print(\"Perimeter of rectangle:\", r.perimeter())"
   ]
  },
  {
   "cell_type": "code",
   "execution_count": null,
   "id": "1bd1ae54-bad5-4b12-aaa6-6f4983b1d7b0",
   "metadata": {},
   "outputs": [],
   "source": []
  }
 ],
 "metadata": {
  "kernelspec": {
   "display_name": "Python 3 (ipykernel)",
   "language": "python",
   "name": "python3"
  },
  "language_info": {
   "codemirror_mode": {
    "name": "ipython",
    "version": 3
   },
   "file_extension": ".py",
   "mimetype": "text/x-python",
   "name": "python",
   "nbconvert_exporter": "python",
   "pygments_lexer": "ipython3",
   "version": "3.11.5"
  }
 },
 "nbformat": 4,
 "nbformat_minor": 5
}
